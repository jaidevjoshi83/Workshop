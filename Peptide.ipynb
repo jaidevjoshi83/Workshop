{
 "cells": [
  {
   "cell_type": "markdown",
   "metadata": {},
   "source": [
    "\n",
    "***\n",
    "<img src=\"https://galaxyproject.org/images/galaxy-logos/galaxy_logo_25percent.png\" alt=\"Drawing\"/>\n",
    "\n",
    "\n",
    "***"
   ]
  },
  {
   "cell_type": "markdown",
   "metadata": {},
   "source": [
    "### How to install galaxy docker image"
   ]
  },
  {
   "cell_type": "markdown",
   "metadata": {},
   "source": [
    "Require docker installtion"
   ]
  },
  {
   "cell_type": "markdown",
   "metadata": {},
   "source": [
    "***\n",
    "docker run -i -t -p 8080:80 jayadevjoshi12/galaxy_pdaug:latest\n",
    "***"
   ]
  },
  {
   "cell_type": "markdown",
   "metadata": {},
   "source": [
    "# 1. Download the peptide data with the anti-cancer and not-anticancer property."
   ]
  },
  {
   "cell_type": "markdown",
   "metadata": {},
   "source": [
    "\n",
    "### Zenodo Link\n",
    "***\n",
    "https://zenodo.org/record/4111092/files/ACPs.fasta\n",
    "\n",
    "https://zenodo.org/record/4111092/files/non_ACPs.fasta\n",
    "***\n"
   ]
  },
  {
   "cell_type": "code",
   "execution_count": 1,
   "metadata": {},
   "outputs": [],
   "source": [
    "#! wget https://zenodo.org/record/4111092/files/ACPs.fasta\n",
    "#! wget https://zenodo.org/record/4111092/files/non_ACPs.fasta"
   ]
  },
  {
   "cell_type": "markdown",
   "metadata": {},
   "source": [
    "### Analysis of ACPs and non-ACPs peptides data"
   ]
  },
  {
   "cell_type": "markdown",
   "metadata": {},
   "source": [
    "***\n",
    "<img src=\"Summary.jpg\" alt=\"Drawing\"/>\n",
    "\n",
    "### Figure 1. Fisher's plot\n",
    "***"
   ]
  },
  {
   "cell_type": "markdown",
   "metadata": {},
   "source": [
    "***\n",
    "<img src=\"Fisher.png\" alt=\"Drawing\"/>\n",
    "\n",
    "### <font color=blue> Figure 1. Fisher's plot Text</font>\n",
    "***"
   ]
  },
  {
   "cell_type": "markdown",
   "metadata": {},
   "source": [
    "# 2. Read fasta file"
   ]
  },
  {
   "cell_type": "code",
   "execution_count": 2,
   "metadata": {},
   "outputs": [],
   "source": [
    "def PepFasta(InFile):\n",
    "    \n",
    "    file = open(InFile)\n",
    "    lines = file.readlines()\n",
    "    Index = []\n",
    "    Peptides = []\n",
    "\n",
    "    for line in lines:\n",
    "        if '>' in line:\n",
    "            Index.append(line.strip('\\n'))\n",
    "        else:\n",
    "            Peptides.append(line.strip('\\n'))\n",
    "    \n",
    "    return Peptides, Index\n",
    "\n",
    "ACPs,_ = PepFasta('ACPs.fasta')\n",
    "nonACPs,_ = PepFasta('non_ACPs.fasta')\n",
    "\n",
    "\n",
    "#print(ACPs)\n"
   ]
  },
  {
   "cell_type": "markdown",
   "metadata": {},
   "source": [
    "### Function to build ML models "
   ]
  },
  {
   "cell_type": "code",
   "execution_count": 3,
   "metadata": {},
   "outputs": [
    {
     "name": "stderr",
     "output_type": "stream",
     "text": [
      "/Users/joshij/miniconda3/envs/p36/lib/python3.6/site-packages/sklearn/ensemble/weight_boosting.py:29: DeprecationWarning: numpy.core.umath_tests is an internal NumPy module and should not be imported. It will be removed in a future NumPy release.\n",
      "  from numpy.core.umath_tests import inner1d\n"
     ]
    }
   ],
   "source": [
    "import tkinter\n",
    "import matplotlib\n",
    "\n",
    "import numpy as np\n",
    "import sys,os\n",
    "from scipy import interp\n",
    "import pylab as pl\n",
    "import pandas as pd\n",
    "\n",
    "###############################################################\n",
    "from sklearn.metrics import *\n",
    "from sklearn import preprocessing\n",
    "from sklearn.metrics import accuracy_score\n",
    "from sklearn.metrics import precision_recall_fscore_support\n",
    "from sklearn.metrics import roc_curve, auc\n",
    "from sklearn.model_selection import StratifiedKFold\n",
    "from sklearn.preprocessing import StandardScaler\n",
    "from sklearn.preprocessing import MinMaxScaler\n",
    "###############################################################\n",
    "from sklearn.linear_model import LogisticRegression\n",
    "from sklearn.naive_bayes import GaussianNB\n",
    "from sklearn.neighbors import KNeighborsClassifier\n",
    "from sklearn.tree import DecisionTreeClassifier\n",
    "from sklearn.svm import SVC\n",
    "from sklearn.ensemble import RandomForestClassifier\n",
    "from sklearn.linear_model import SGDClassifier\n",
    "from sklearn.ensemble import GradientBoostingClassifier\n",
    "from sklearn.neural_network import MLPClassifier\n",
    "###############################################################\n",
    "from itertools import cycle\n",
    "import matplotlib.image as mpimg\n",
    "################################################################\n",
    "from sklearn.model_selection import train_test_split\n",
    "\n",
    "def Fit_Model(X, y,  Algo,  NoOfFolds=None):\n",
    "\n",
    "    mean_tpr = 0.0\n",
    "    mean_fpr = np.linspace(0, 1, 100)\n",
    "\n",
    "    specificity_list = []\n",
    "    sensitivity_list = []\n",
    "    presison_list = []\n",
    "    mcc_list =  []\n",
    "    f1_list = []\n",
    "\n",
    "\n",
    "    mean_tpr = 0.0\n",
    "    mean_fpr = np.linspace(0, 1, 100)\n",
    "\n",
    "    ##########################\n",
    "    accuracy_score_l = []\n",
    "    cohen_kappa_score_l = []\n",
    "    matthews_corrcoef_l = []\n",
    "    precision_l = []\n",
    "    recall_l = []\n",
    "    f_score_l = []\n",
    "    ##########################\n",
    "\n",
    "    folds = StratifiedKFold(n_splits=int(NoOfFolds))\n",
    "    \n",
    "    for i, (train, test) in enumerate(folds.split(X, y)):\n",
    "\n",
    "        x_train = X[train]\n",
    "        x_test = X[test]\n",
    "\n",
    "        prob = Algo.fit(x_train, y[train]).predict_proba(x_test)\n",
    "        predicted = Algo.fit(x_train, y[train]).predict(x_test)\n",
    "\n",
    "        fpr, tpr, thresholds = roc_curve(y[test], prob[:, 1])\n",
    "        mean_tpr += interp(mean_fpr, fpr, tpr)\n",
    "        mean_tpr[0] = 0.0\n",
    "\n",
    "        TN, FP, FN, TP = confusion_matrix(y[test], predicted).ravel()\n",
    "\n",
    "        accuracy_score_l.append(round(accuracy_score(y[test], predicted),3))\n",
    "        a = precision_recall_fscore_support(y[test], predicted, average='macro')\n",
    "        precision_l.append(round(a[0],3))\n",
    "        recall_l.append(round(a[1],3))\n",
    "        f_score_l .append(round(a[2],3))\n",
    "\n",
    "    accuracy_score_mean = round(float(sum(accuracy_score_l)/float(len(accuracy_score_l))),3)\n",
    "    precision_mean = round(float(sum(precision_l)/float(len(precision_l))),3)\n",
    "    recall_mean = round(float(sum(recall_l)/float(len(recall_l))),3)\n",
    "    f_score_mean = round(float(sum(f_score_l )/float(len(f_score_l ))),3)\n",
    "\n",
    "    pl.figure()\n",
    "\n",
    "    mean_tpr /= folds.get_n_splits(X, y)\n",
    "    mean_tpr[-1] = 1.0\n",
    "    mean_auc = auc(mean_fpr, mean_tpr)\n",
    "\n",
    "    pl.plot(mean_fpr, mean_tpr, '-', color='red',label='AUC = %0.2f' % mean_auc, lw=2)\n",
    "\n",
    "    pl.xlim([0.0, 1.0])\n",
    "    pl.ylim([0.0, 1.05])\n",
    "    pl.xlabel('False Positive Rate')\n",
    "    pl.ylabel('True Positive Rate')\n",
    "    pl.title('ROC Cureve for All the classifier')\n",
    "    pl.legend(loc=\"lower right\")\n",
    "\n",
    "    ########################################################################################################################################\n",
    "    V_header = [\"Algo\",\"accuracy\",\"presision\",\"recall\",\"f1\",\"mean_auc\"]                                                                           #\n",
    "    v_values = [sys.argv[1], round(accuracy_score_mean, 3), round(precision_mean, 3), round(recall_mean, 3),round(f_score_mean, 3), round(mean_auc, 3)]                                        # \n",
    "    ########################################################################################################################################\n",
    "\n",
    "    df = pd.DataFrame([v_values], columns=V_header)\n",
    "    df.to_csv('result.tsv', columns=V_header, sep='\\t', index=None)\n",
    "    #pl.savefig( \"out.png\")\n",
    "    pl.figure()\n",
    "    pl.bar(V_header[1:], v_values[1:], color=(0.2, 0.4, 0.6, 0.6))\n",
    "    pl.xlabel('Accuracy Perameters', fontweight='bold', color = 'orange', fontsize='17', horizontalalignment='center')\n",
    "    #pl.savefig(\"2.png\")\n",
    "    pl.show()\n",
    "  "
   ]
  },
  {
   "cell_type": "markdown",
   "metadata": {},
   "source": [
    "### Descriptor Calculations "
   ]
  },
  {
   "cell_type": "code",
   "execution_count": 4,
   "metadata": {},
   "outputs": [],
   "source": [
    "import pandas as pd\n",
    "from propy import PyPro\n",
    "from propy.GetProteinFromUniprot import GetProteinSequence\n",
    "\n",
    "l = []\n",
    "for i, x in enumerate(ACPs):\n",
    "    DesObject = PyPro.GetProDes(x)\n",
    "    d = DesObject.GetPAAC()\n",
    "    l.append(d)   \n",
    "\n",
    "ACPsdf = pd.DataFrame(l, index=None)\n",
    "\n",
    "for i, x in enumerate(nonACPs):\n",
    "    DesObject = PyPro.GetProDes(x)\n",
    "    d = DesObject.GetPAAC()\n",
    "    l.append(d)   \n",
    "\n",
    "nonACPsdf = pd.DataFrame(l, index=None)"
   ]
  },
  {
   "cell_type": "markdown",
   "metadata": {},
   "source": [
    "### Class Labels "
   ]
  },
  {
   "cell_type": "code",
   "execution_count": 5,
   "metadata": {},
   "outputs": [],
   "source": [
    "ACPsdf.insert(1, 'class_label', 1)\n",
    "nonACPsdf.insert(1, 'class_label', 0)"
   ]
  },
  {
   "cell_type": "code",
   "execution_count": 6,
   "metadata": {},
   "outputs": [],
   "source": [
    "traningDF = pd.concat([ACPsdf, nonACPsdf])"
   ]
  },
  {
   "cell_type": "code",
   "execution_count": 7,
   "metadata": {},
   "outputs": [],
   "source": [
    "x = traningDF.drop(['class_label'], axis=1).values\n",
    "y = traningDF['class_label'].values"
   ]
  },
  {
   "cell_type": "markdown",
   "metadata": {},
   "source": [
    "### Building an SVM model "
   ]
  },
  {
   "cell_type": "code",
   "execution_count": 12,
   "metadata": {},
   "outputs": [
    {
     "name": "stderr",
     "output_type": "stream",
     "text": [
      "/Users/joshij/miniconda3/envs/p36/lib/python3.6/site-packages/ipykernel_launcher.py:70: DeprecationWarning: scipy.interp is deprecated and will be removed in SciPy 2.0.0, use numpy.interp instead\n",
      "/Users/joshij/miniconda3/envs/p36/lib/python3.6/site-packages/sklearn/metrics/classification.py:1135: UndefinedMetricWarning: Precision and F-score are ill-defined and being set to 0.0 in labels with no predicted samples.\n",
      "  'precision', 'predicted', average, warn_for)\n"
     ]
    },
    {
     "data": {
      "image/png": "[encoded data removed]",
      "text/plain": [
       "<Figure size 432x288 with 1 Axes>"
      ]
     },
     "metadata": {
      "needs_background": "light"
     },
     "output_type": "display_data"
    },
    {
     "data": {
      "image/png": "[encoded data removed]",
      "text/plain": [
       "<Figure size 432x288 with 1 Axes>"
      ]
     },
     "metadata": {
      "needs_background": "light"
     },
     "output_type": "display_data"
    }
   ],
   "source": [
    "from sklearn import preprocessing\n",
    "X_scaled = preprocessing.scale(x)\n",
    "\n",
    "gb = SVC(kernel='poly', probability=True)\n",
    "df = Fit_Model(x, y,  gb, NoOfFolds=10)"
   ]
  },
  {
   "cell_type": "markdown",
   "metadata": {},
   "source": [
    "### Feature selection and cross validation"
   ]
  },
  {
   "cell_type": "code",
   "execution_count": 9,
   "metadata": {},
   "outputs": [
    {
     "name": "stdout",
     "output_type": "stream",
     "text": [
      "['PAAC12', 'PAAC7', 'PAAC2', 'PAAC11', 'PAAC10']\n"
     ]
    }
   ],
   "source": [
    "from sklearn.ensemble import ExtraTreesClassifier\n",
    "import pandas as pd\n",
    "import numpy as np\n",
    "import sklearn\n",
    "\n",
    "clm = traningDF.drop(['class_label'], axis=1).columns\n",
    "\n",
    "\n",
    "X_train = x\n",
    "y_train = y \n",
    "\n",
    "model = ExtraTreesClassifier()\n",
    "model.fit(X_train, y_train)\n",
    "\n",
    "feat_importances = pd.Series(model.feature_importances_, index=clm)\n",
    "fdf =  feat_importances.nlargest(5).to_frame()\n",
    "\n",
    "\n",
    "TopFeatures  = fdf.reset_index()['index'].tolist()\n",
    "\n",
    "                  \n",
    "print (TopFeatures)"
   ]
  },
  {
   "cell_type": "code",
   "execution_count": 14,
   "metadata": {},
   "outputs": [
    {
     "name": "stderr",
     "output_type": "stream",
     "text": [
      "/Users/joshij/miniconda3/envs/p36/lib/python3.6/site-packages/ipykernel_launcher.py:70: DeprecationWarning: scipy.interp is deprecated and will be removed in SciPy 2.0.0, use numpy.interp instead\n",
      "/Users/joshij/miniconda3/envs/p36/lib/python3.6/site-packages/sklearn/metrics/classification.py:1135: UndefinedMetricWarning: Precision and F-score are ill-defined and being set to 0.0 in labels with no predicted samples.\n",
      "  'precision', 'predicted', average, warn_for)\n"
     ]
    },
    {
     "data": {
      "image/png": "[encoded data removed]",
      "text/plain": [
       "<Figure size 432x288 with 1 Axes>"
      ]
     },
     "metadata": {
      "needs_background": "light"
     },
     "output_type": "display_data"
    },
    {
     "data": {
      "image/png": "[encoded data removed]",
      "text/plain": [
       "<Figure size 432x288 with 1 Axes>"
      ]
     },
     "metadata": {
      "needs_background": "light"
     },
     "output_type": "display_data"
    }
   ],
   "source": [
    "New_x = traningDF[TopFeatures].values\n",
    "gb = SVC(kernel='poly', probability=True)\n",
    "df = Fit_Model(x, y,  gb, NoOfFolds=10)"
   ]
  },
  {
   "cell_type": "code",
   "execution_count": 16,
   "metadata": {},
   "outputs": [
    {
     "name": "stderr",
     "output_type": "stream",
     "text": [
      "/Users/joshij/miniconda3/envs/p36/lib/python3.6/site-packages/ipykernel_launcher.py:70: DeprecationWarning: scipy.interp is deprecated and will be removed in SciPy 2.0.0, use numpy.interp instead\n"
     ]
    },
    {
     "data": {
      "image/png": "[encoded data removed]",
      "text/plain": [
       "<Figure size 432x288 with 1 Axes>"
      ]
     },
     "metadata": {
      "needs_background": "light"
     },
     "output_type": "display_data"
    },
    {
     "data": {
      "image/png": "[encoded data removed]",
      "text/plain": [
       "<Figure size 432x288 with 1 Axes>"
      ]
     },
     "metadata": {
      "needs_background": "light"
     },
     "output_type": "display_data"
    }
   ],
   "source": [
    "from sklearn.naive_bayes import GaussianNB\n"
   ]
  },
  {
   "cell_type": "code",
   "execution_count": null,
   "metadata": {},
   "outputs": [],
   "source": []
  }
 ],
 "metadata": {
  "kernelspec": {
   "display_name": "Python 3",
   "language": "python",
   "name": "python3"
  },
  "language_info": {
   "codemirror_mode": {
    "name": "ipython",
    "version": 3
   },
   "file_extension": ".py",
   "mimetype": "text/x-python",
   "name": "python",
   "nbconvert_exporter": "python",
   "pygments_lexer": "ipython3",
   "version": "3.6.11"
  }
 },
 "nbformat": 4,
 "nbformat_minor": 4
}
